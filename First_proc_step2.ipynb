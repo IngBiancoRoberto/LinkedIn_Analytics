{
 "cells": [
  {
   "cell_type": "code",
   "execution_count": 1,
   "metadata": {},
   "outputs": [],
   "source": [
    "import pandas as pd\n",
    "import numpy as np\n",
    "import matplotlib.pyplot as plt\n",
    "import seaborn as sns\n",
    "from datetime import datetime as dt"
   ]
  },
  {
   "cell_type": "code",
   "execution_count": 3,
   "metadata": {},
   "outputs": [
    {
     "data": {
      "text/html": [
       "<div>\n",
       "<style scoped>\n",
       "    .dataframe tbody tr th:only-of-type {\n",
       "        vertical-align: middle;\n",
       "    }\n",
       "\n",
       "    .dataframe tbody tr th {\n",
       "        vertical-align: top;\n",
       "    }\n",
       "\n",
       "    .dataframe thead th {\n",
       "        text-align: right;\n",
       "    }\n",
       "</style>\n",
       "<table border=\"1\" class=\"dataframe\">\n",
       "  <thead>\n",
       "    <tr style=\"text-align: right;\">\n",
       "      <th></th>\n",
       "      <th>Unnamed: 0</th>\n",
       "      <th>name</th>\n",
       "      <th>link</th>\n",
       "      <th>occupation</th>\n",
       "      <th>location</th>\n",
       "      <th>mutual_raw</th>\n",
       "      <th>date_connected_string</th>\n",
       "      <th>see_connections_link</th>\n",
       "      <th>date_connected</th>\n",
       "      <th>city</th>\n",
       "      <th>region</th>\n",
       "      <th>country</th>\n",
       "    </tr>\n",
       "  </thead>\n",
       "  <tbody>\n",
       "    <tr>\n",
       "      <th>0</th>\n",
       "      <td>0</td>\n",
       "      <td>Madhu Shurpali</td>\n",
       "      <td>/in/madhu-shurpali-2aabab14/</td>\n",
       "      <td>Project Manager at Tata Technologies</td>\n",
       "      <td>Coventry, United Kingdom</td>\n",
       "      <td>10 Mutual Connections</td>\n",
       "      <td>June 6, 2019</td>\n",
       "      <td>/search/results/people/?facetConnectionOf=%5B%...</td>\n",
       "      <td>2019-06-06</td>\n",
       "      <td>Coventry</td>\n",
       "      <td>NaN</td>\n",
       "      <td>United Kingdom</td>\n",
       "    </tr>\n",
       "    <tr>\n",
       "      <th>1</th>\n",
       "      <td>1</td>\n",
       "      <td>Ivan Lafuenti</td>\n",
       "      <td>/in/ivan-l-b7458932/</td>\n",
       "      <td>Design Engineering at Giannuzzi srl</td>\n",
       "      <td>Brindisi Area, Italy</td>\n",
       "      <td>['2 Mutual Connections', 'You both studied at ...</td>\n",
       "      <td>May 30, 2019</td>\n",
       "      <td>/search/results/people/?facetConnectionOf=%5B%...</td>\n",
       "      <td>2019-05-30</td>\n",
       "      <td>Brindisi</td>\n",
       "      <td>NaN</td>\n",
       "      <td>Italy</td>\n",
       "    </tr>\n",
       "    <tr>\n",
       "      <th>2</th>\n",
       "      <td>2</td>\n",
       "      <td>Tiziano Ruggiero</td>\n",
       "      <td>/in/tiziano-ruggiero-2011b2164/</td>\n",
       "      <td>Responsabile del reparto tecnico di produzione...</td>\n",
       "      <td>Avezzano, Abruzzo, Italy</td>\n",
       "      <td>Tiziano started a new position as Responsabile...</td>\n",
       "      <td>May 30, 2019</td>\n",
       "      <td>/search/results/people/?facetConnectionOf=%5B%...</td>\n",
       "      <td>2019-05-30</td>\n",
       "      <td>Avezzano</td>\n",
       "      <td>Abruzzo</td>\n",
       "      <td>Italy</td>\n",
       "    </tr>\n",
       "    <tr>\n",
       "      <th>3</th>\n",
       "      <td>3</td>\n",
       "      <td>Antonio Guerrieri</td>\n",
       "      <td>/in/antonio-guerrieri/</td>\n",
       "      <td>Ingegnere at Università del Salento</td>\n",
       "      <td>Lecce, Apulia, Italy</td>\n",
       "      <td>You both studied at Università del Salento</td>\n",
       "      <td>May 29, 2019</td>\n",
       "      <td>/search/results/people/?facetConnectionOf=%5B%...</td>\n",
       "      <td>2019-05-29</td>\n",
       "      <td>Lecce</td>\n",
       "      <td>Apulia</td>\n",
       "      <td>Italy</td>\n",
       "    </tr>\n",
       "    <tr>\n",
       "      <th>4</th>\n",
       "      <td>4</td>\n",
       "      <td>Lorenzo Gagliardi</td>\n",
       "      <td>/in/lorenzo-gagliardi-72049b45/</td>\n",
       "      <td>Ing</td>\n",
       "      <td>Savona, Liguria, Italy</td>\n",
       "      <td>['19 Mutual Connections', 'You both worked at ...</td>\n",
       "      <td>May 2, 2019</td>\n",
       "      <td>/search/results/people/?facetConnectionOf=%5B%...</td>\n",
       "      <td>2019-05-02</td>\n",
       "      <td>Savona</td>\n",
       "      <td>Liguria</td>\n",
       "      <td>Italy</td>\n",
       "    </tr>\n",
       "  </tbody>\n",
       "</table>\n",
       "</div>"
      ],
      "text/plain": [
       "   Unnamed: 0               name                             link  \\\n",
       "0           0     Madhu Shurpali     /in/madhu-shurpali-2aabab14/   \n",
       "1           1      Ivan Lafuenti             /in/ivan-l-b7458932/   \n",
       "2           2   Tiziano Ruggiero  /in/tiziano-ruggiero-2011b2164/   \n",
       "3           3  Antonio Guerrieri           /in/antonio-guerrieri/   \n",
       "4           4  Lorenzo Gagliardi  /in/lorenzo-gagliardi-72049b45/   \n",
       "\n",
       "                                          occupation  \\\n",
       "0               Project Manager at Tata Technologies   \n",
       "1                Design Engineering at Giannuzzi srl   \n",
       "2  Responsabile del reparto tecnico di produzione...   \n",
       "3                Ingegnere at Università del Salento   \n",
       "4                                                Ing   \n",
       "\n",
       "                   location  \\\n",
       "0  Coventry, United Kingdom   \n",
       "1      Brindisi Area, Italy   \n",
       "2  Avezzano, Abruzzo, Italy   \n",
       "3      Lecce, Apulia, Italy   \n",
       "4    Savona, Liguria, Italy   \n",
       "\n",
       "                                          mutual_raw date_connected_string  \\\n",
       "0                              10 Mutual Connections          June 6, 2019   \n",
       "1  ['2 Mutual Connections', 'You both studied at ...          May 30, 2019   \n",
       "2  Tiziano started a new position as Responsabile...          May 30, 2019   \n",
       "3         You both studied at Università del Salento          May 29, 2019   \n",
       "4  ['19 Mutual Connections', 'You both worked at ...           May 2, 2019   \n",
       "\n",
       "                                see_connections_link date_connected      city  \\\n",
       "0  /search/results/people/?facetConnectionOf=%5B%...     2019-06-06  Coventry   \n",
       "1  /search/results/people/?facetConnectionOf=%5B%...     2019-05-30  Brindisi   \n",
       "2  /search/results/people/?facetConnectionOf=%5B%...     2019-05-30  Avezzano   \n",
       "3  /search/results/people/?facetConnectionOf=%5B%...     2019-05-29     Lecce   \n",
       "4  /search/results/people/?facetConnectionOf=%5B%...     2019-05-02    Savona   \n",
       "\n",
       "    region         country  \n",
       "0      NaN  United Kingdom  \n",
       "1      NaN           Italy  \n",
       "2  Abruzzo           Italy  \n",
       "3   Apulia           Italy  \n",
       "4  Liguria           Italy  "
      ]
     },
     "execution_count": 3,
     "metadata": {},
     "output_type": "execute_result"
    }
   ],
   "source": [
    "df = pd.read_csv('./csv_files/first_v2_mod.csv', sep = ';')\n",
    "df.head()"
   ]
  },
  {
   "cell_type": "code",
   "execution_count": 4,
   "metadata": {},
   "outputs": [],
   "source": [
    "dc = df['date_connected']\n",
    "dc_right = []\n",
    "for data in dc:\n",
    "    dc_right.append( dt.strptime(data, '%Y-%m-%d'))\n",
    "\n",
    "#df['date_connected'] = dc_right"
   ]
  },
  {
   "cell_type": "code",
   "execution_count": 5,
   "metadata": {},
   "outputs": [],
   "source": [
    "df['date_connected'] = dc_right"
   ]
  },
  {
   "cell_type": "code",
   "execution_count": 6,
   "metadata": {},
   "outputs": [
    {
     "data": {
      "text/html": [
       "<div>\n",
       "<style scoped>\n",
       "    .dataframe tbody tr th:only-of-type {\n",
       "        vertical-align: middle;\n",
       "    }\n",
       "\n",
       "    .dataframe tbody tr th {\n",
       "        vertical-align: top;\n",
       "    }\n",
       "\n",
       "    .dataframe thead th {\n",
       "        text-align: right;\n",
       "    }\n",
       "</style>\n",
       "<table border=\"1\" class=\"dataframe\">\n",
       "  <thead>\n",
       "    <tr style=\"text-align: right;\">\n",
       "      <th></th>\n",
       "      <th>Unnamed: 0</th>\n",
       "      <th>name</th>\n",
       "      <th>link</th>\n",
       "      <th>occupation</th>\n",
       "      <th>location</th>\n",
       "      <th>mutual_raw</th>\n",
       "      <th>date_connected_string</th>\n",
       "      <th>see_connections_link</th>\n",
       "      <th>date_connected</th>\n",
       "      <th>city</th>\n",
       "      <th>region</th>\n",
       "      <th>country</th>\n",
       "    </tr>\n",
       "  </thead>\n",
       "  <tbody>\n",
       "    <tr>\n",
       "      <th>0</th>\n",
       "      <td>0</td>\n",
       "      <td>Madhu Shurpali</td>\n",
       "      <td>/in/madhu-shurpali-2aabab14/</td>\n",
       "      <td>Project Manager at Tata Technologies</td>\n",
       "      <td>Coventry, United Kingdom</td>\n",
       "      <td>10 Mutual Connections</td>\n",
       "      <td>June 6, 2019</td>\n",
       "      <td>/search/results/people/?facetConnectionOf=%5B%...</td>\n",
       "      <td>2019-06-06</td>\n",
       "      <td>Coventry</td>\n",
       "      <td>NaN</td>\n",
       "      <td>United Kingdom</td>\n",
       "    </tr>\n",
       "    <tr>\n",
       "      <th>1</th>\n",
       "      <td>1</td>\n",
       "      <td>Ivan Lafuenti</td>\n",
       "      <td>/in/ivan-l-b7458932/</td>\n",
       "      <td>Design Engineering at Giannuzzi srl</td>\n",
       "      <td>Brindisi Area, Italy</td>\n",
       "      <td>['2 Mutual Connections', 'You both studied at ...</td>\n",
       "      <td>May 30, 2019</td>\n",
       "      <td>/search/results/people/?facetConnectionOf=%5B%...</td>\n",
       "      <td>2019-05-30</td>\n",
       "      <td>Brindisi</td>\n",
       "      <td>NaN</td>\n",
       "      <td>Italy</td>\n",
       "    </tr>\n",
       "    <tr>\n",
       "      <th>2</th>\n",
       "      <td>2</td>\n",
       "      <td>Tiziano Ruggiero</td>\n",
       "      <td>/in/tiziano-ruggiero-2011b2164/</td>\n",
       "      <td>Responsabile del reparto tecnico di produzione...</td>\n",
       "      <td>Avezzano, Abruzzo, Italy</td>\n",
       "      <td>Tiziano started a new position as Responsabile...</td>\n",
       "      <td>May 30, 2019</td>\n",
       "      <td>/search/results/people/?facetConnectionOf=%5B%...</td>\n",
       "      <td>2019-05-30</td>\n",
       "      <td>Avezzano</td>\n",
       "      <td>Abruzzo</td>\n",
       "      <td>Italy</td>\n",
       "    </tr>\n",
       "    <tr>\n",
       "      <th>3</th>\n",
       "      <td>3</td>\n",
       "      <td>Antonio Guerrieri</td>\n",
       "      <td>/in/antonio-guerrieri/</td>\n",
       "      <td>Ingegnere at Università del Salento</td>\n",
       "      <td>Lecce, Apulia, Italy</td>\n",
       "      <td>You both studied at Università del Salento</td>\n",
       "      <td>May 29, 2019</td>\n",
       "      <td>/search/results/people/?facetConnectionOf=%5B%...</td>\n",
       "      <td>2019-05-29</td>\n",
       "      <td>Lecce</td>\n",
       "      <td>Apulia</td>\n",
       "      <td>Italy</td>\n",
       "    </tr>\n",
       "    <tr>\n",
       "      <th>4</th>\n",
       "      <td>4</td>\n",
       "      <td>Lorenzo Gagliardi</td>\n",
       "      <td>/in/lorenzo-gagliardi-72049b45/</td>\n",
       "      <td>Ing</td>\n",
       "      <td>Savona, Liguria, Italy</td>\n",
       "      <td>['19 Mutual Connections', 'You both worked at ...</td>\n",
       "      <td>May 2, 2019</td>\n",
       "      <td>/search/results/people/?facetConnectionOf=%5B%...</td>\n",
       "      <td>2019-05-02</td>\n",
       "      <td>Savona</td>\n",
       "      <td>Liguria</td>\n",
       "      <td>Italy</td>\n",
       "    </tr>\n",
       "  </tbody>\n",
       "</table>\n",
       "</div>"
      ],
      "text/plain": [
       "   Unnamed: 0               name                             link  \\\n",
       "0           0     Madhu Shurpali     /in/madhu-shurpali-2aabab14/   \n",
       "1           1      Ivan Lafuenti             /in/ivan-l-b7458932/   \n",
       "2           2   Tiziano Ruggiero  /in/tiziano-ruggiero-2011b2164/   \n",
       "3           3  Antonio Guerrieri           /in/antonio-guerrieri/   \n",
       "4           4  Lorenzo Gagliardi  /in/lorenzo-gagliardi-72049b45/   \n",
       "\n",
       "                                          occupation  \\\n",
       "0               Project Manager at Tata Technologies   \n",
       "1                Design Engineering at Giannuzzi srl   \n",
       "2  Responsabile del reparto tecnico di produzione...   \n",
       "3                Ingegnere at Università del Salento   \n",
       "4                                                Ing   \n",
       "\n",
       "                   location  \\\n",
       "0  Coventry, United Kingdom   \n",
       "1      Brindisi Area, Italy   \n",
       "2  Avezzano, Abruzzo, Italy   \n",
       "3      Lecce, Apulia, Italy   \n",
       "4    Savona, Liguria, Italy   \n",
       "\n",
       "                                          mutual_raw date_connected_string  \\\n",
       "0                              10 Mutual Connections          June 6, 2019   \n",
       "1  ['2 Mutual Connections', 'You both studied at ...          May 30, 2019   \n",
       "2  Tiziano started a new position as Responsabile...          May 30, 2019   \n",
       "3         You both studied at Università del Salento          May 29, 2019   \n",
       "4  ['19 Mutual Connections', 'You both worked at ...           May 2, 2019   \n",
       "\n",
       "                                see_connections_link date_connected      city  \\\n",
       "0  /search/results/people/?facetConnectionOf=%5B%...     2019-06-06  Coventry   \n",
       "1  /search/results/people/?facetConnectionOf=%5B%...     2019-05-30  Brindisi   \n",
       "2  /search/results/people/?facetConnectionOf=%5B%...     2019-05-30  Avezzano   \n",
       "3  /search/results/people/?facetConnectionOf=%5B%...     2019-05-29     Lecce   \n",
       "4  /search/results/people/?facetConnectionOf=%5B%...     2019-05-02    Savona   \n",
       "\n",
       "    region         country  \n",
       "0      NaN  United Kingdom  \n",
       "1      NaN           Italy  \n",
       "2  Abruzzo           Italy  \n",
       "3   Apulia           Italy  \n",
       "4  Liguria           Italy  "
      ]
     },
     "execution_count": 6,
     "metadata": {},
     "output_type": "execute_result"
    }
   ],
   "source": [
    "df.head()"
   ]
  },
  {
   "cell_type": "code",
   "execution_count": 7,
   "metadata": {},
   "outputs": [
    {
     "data": {
      "text/plain": [
       "Timestamp('2019-06-06 00:00:00')"
      ]
     },
     "execution_count": 7,
     "metadata": {},
     "output_type": "execute_result"
    }
   ],
   "source": [
    "df['date_connected'][0]"
   ]
  },
  {
   "cell_type": "code",
   "execution_count": 8,
   "metadata": {},
   "outputs": [
    {
     "data": {
      "text/plain": [
       "United Kingdom          121\n",
       "Italy                   111\n",
       "Germany                  15\n",
       "Spain                    12\n",
       "China                     5\n",
       "USA                       5\n",
       "India                     4\n",
       "Ireland                   3\n",
       "France                    2\n",
       "Brazil                    2\n",
       "Belgium                   2\n",
       "Netherlands               2\n",
       "Turkey                    1\n",
       "United Arab Emirates      1\n",
       "Sweden                    1\n",
       "Japan                     1\n",
       "Georgia                   1\n",
       "Canada                    1\n",
       "Hong Kong                 1\n",
       "Czech Republic            1\n",
       "Name: country, dtype: int64"
      ]
     },
     "execution_count": 8,
     "metadata": {},
     "output_type": "execute_result"
    }
   ],
   "source": [
    "res = df['country'].value_counts()\n",
    "res"
   ]
  },
  {
   "cell_type": "code",
   "execution_count": 39,
   "metadata": {},
   "outputs": [
    {
     "data": {
      "image/png": "[encoded data removed]",
      "text/plain": [
       "<Figure size 720x432 with 1 Axes>"
      ]
     },
     "metadata": {
      "needs_background": "light"
     },
     "output_type": "display_data"
    }
   ],
   "source": [
    "plt.figure(figsize = (10,6))\n",
    "res.plot(kind = 'bar', grid = True)\n",
    "plt.ylabel('Connections', fontsize = 14);\n",
    "plt.xticks(fontsize = 13);\n",
    "plt.xlim([-0.5,9.5]);\n",
    "plt.title('Pareto at 95%')\n",
    "plt.savefig('Country_pareto.png')"
   ]
  },
  {
   "cell_type": "code",
   "execution_count": 34,
   "metadata": {},
   "outputs": [
    {
     "data": {
      "text/plain": [
       "United Kingdom          0.412969\n",
       "Italy                   0.791809\n",
       "Germany                 0.843003\n",
       "Spain                   0.883959\n",
       "USA                     0.901024\n",
       "China                   0.918089\n",
       "India                   0.931741\n",
       "Ireland                 0.941980\n",
       "France                  0.948805\n",
       "Brazil                  0.955631\n",
       "Belgium                 0.962457\n",
       "Netherlands             0.969283\n",
       "Turkey                  0.972696\n",
       "Hong Kong               0.976109\n",
       "Canada                  0.979522\n",
       "Georgia                 0.982935\n",
       "Japan                   0.986348\n",
       "Sweden                  0.989761\n",
       "Czech Republic          0.993174\n",
       "United Arab Emirates    0.996587\n",
       "Name: country, dtype: float64"
      ]
     },
     "execution_count": 34,
     "metadata": {},
     "output_type": "execute_result"
    }
   ],
   "source": [
    "rescum = res.cumsum()/293\n",
    "rescum"
   ]
  },
  {
   "cell_type": "code",
   "execution_count": 36,
   "metadata": {},
   "outputs": [
    {
     "data": {
      "text/plain": [
       "<matplotlib.axes._subplots.AxesSubplot at 0x1833b9535f8>"
      ]
     },
     "execution_count": 36,
     "metadata": {},
     "output_type": "execute_result"
    },
    {
     "data": {
      "image/png": "[encoded data removed]",
      "text/plain": [
       "<Figure size 432x288 with 1 Axes>"
      ]
     },
     "metadata": {
      "needs_background": "light"
     },
     "output_type": "display_data"
    }
   ],
   "source": [
    "rescum.plot(kind = 'bar')"
   ]
  },
  {
   "cell_type": "code",
   "execution_count": 80,
   "metadata": {},
   "outputs": [],
   "source": [
    "ix_uk = (df['country'] == 'United Kingdom')\n",
    "date_uk = df['date_connected'][ix_uk]\n",
    "date_italy = df['date_connected'][df['country']=='Italy']"
   ]
  },
  {
   "cell_type": "code",
   "execution_count": 81,
   "metadata": {},
   "outputs": [
    {
     "data": {
      "text/plain": [
       "(array([12., 11., 14.,  6.,  6.,  8., 13., 16., 12., 23.]),\n",
       " array([734929. , 735157.7, 735386.4, 735615.1, 735843.8, 736072.5,\n",
       "        736301.2, 736529.9, 736758.6, 736987.3, 737216. ]),\n",
       " <a list of 10 Patch objects>)"
      ]
     },
     "execution_count": 81,
     "metadata": {},
     "output_type": "execute_result"
    },
    {
     "data": {
      "image/png": "[encoded data removed]",
      "text/plain": [
       "<Figure size 432x288 with 1 Axes>"
      ]
     },
     "metadata": {
      "needs_background": "light"
     },
     "output_type": "display_data"
    }
   ],
   "source": [
    "plt.hist(date_uk)"
   ]
  },
  {
   "cell_type": "code",
   "execution_count": 10,
   "metadata": {},
   "outputs": [],
   "source": [
    "df_country = df.loc[(df['country'] == 'United Kingdom') | (df['country'] == 'Italy')]"
   ]
  },
  {
   "cell_type": "code",
   "execution_count": 84,
   "metadata": {},
   "outputs": [
    {
     "data": {
      "text/html": [
       "<div>\n",
       "<style scoped>\n",
       "    .dataframe tbody tr th:only-of-type {\n",
       "        vertical-align: middle;\n",
       "    }\n",
       "\n",
       "    .dataframe tbody tr th {\n",
       "        vertical-align: top;\n",
       "    }\n",
       "\n",
       "    .dataframe thead th {\n",
       "        text-align: right;\n",
       "    }\n",
       "</style>\n",
       "<table border=\"1\" class=\"dataframe\">\n",
       "  <thead>\n",
       "    <tr style=\"text-align: right;\">\n",
       "      <th></th>\n",
       "      <th>Unnamed: 0</th>\n",
       "      <th>name</th>\n",
       "      <th>link</th>\n",
       "      <th>occupation</th>\n",
       "      <th>location</th>\n",
       "      <th>mutual_raw</th>\n",
       "      <th>date_connected_string</th>\n",
       "      <th>see_connections_link</th>\n",
       "      <th>date_connected</th>\n",
       "      <th>city</th>\n",
       "      <th>region</th>\n",
       "      <th>country</th>\n",
       "    </tr>\n",
       "  </thead>\n",
       "  <tbody>\n",
       "    <tr>\n",
       "      <th>0</th>\n",
       "      <td>0</td>\n",
       "      <td>Madhu Shurpali</td>\n",
       "      <td>/in/madhu-shurpali-2aabab14/</td>\n",
       "      <td>Project Manager at Tata Technologies</td>\n",
       "      <td>Coventry, United Kingdom</td>\n",
       "      <td>10 Mutual Connections</td>\n",
       "      <td>June 6, 2019</td>\n",
       "      <td>/search/results/people/?facetConnectionOf=%5B%...</td>\n",
       "      <td>2019-06-06</td>\n",
       "      <td>Coventry</td>\n",
       "      <td>NaN</td>\n",
       "      <td>United Kingdom</td>\n",
       "    </tr>\n",
       "    <tr>\n",
       "      <th>5</th>\n",
       "      <td>5</td>\n",
       "      <td>Stuart Hubbard</td>\n",
       "      <td>/in/stuarthubbard/</td>\n",
       "      <td>Lead Engineer - CAE Methods &amp;amp; Tools (Suspe...</td>\n",
       "      <td>Bishop’s Itchington, Warwickshire, United Kingdom</td>\n",
       "      <td>['36 Mutual Connections', 'You both worked at ...</td>\n",
       "      <td>April 25, 2019</td>\n",
       "      <td>/search/results/people/?facetConnectionOf=%5B%...</td>\n",
       "      <td>2019-04-25</td>\n",
       "      <td>Bishop’s Itchington</td>\n",
       "      <td>Warwickshire</td>\n",
       "      <td>United Kingdom</td>\n",
       "    </tr>\n",
       "    <tr>\n",
       "      <th>6</th>\n",
       "      <td>6</td>\n",
       "      <td>Lily Watson</td>\n",
       "      <td>/in/lily-watson-8b06b0178/</td>\n",
       "      <td>Student at England High School</td>\n",
       "      <td>London, United Kingdom</td>\n",
       "      <td>19 Mutual Connections</td>\n",
       "      <td>April 24, 2019</td>\n",
       "      <td>/search/results/people/?facetConnectionOf=%5B%...</td>\n",
       "      <td>2019-04-24</td>\n",
       "      <td>London</td>\n",
       "      <td>NaN</td>\n",
       "      <td>United Kingdom</td>\n",
       "    </tr>\n",
       "    <tr>\n",
       "      <th>7</th>\n",
       "      <td>7</td>\n",
       "      <td>Mostafa Hashem</td>\n",
       "      <td>/in/mostafa-hashem-93264218/</td>\n",
       "      <td>Entrepreneur, Analytics and Data Consultant.</td>\n",
       "      <td>Coventry, West Midlands, United Kingdom</td>\n",
       "      <td>['2 Mutual Connections', '1 Mutual Group']</td>\n",
       "      <td>April 16, 2019</td>\n",
       "      <td>/search/results/people/?facetConnectionOf=%5B%...</td>\n",
       "      <td>2019-04-16</td>\n",
       "      <td>Coventry</td>\n",
       "      <td>West Midlands</td>\n",
       "      <td>United Kingdom</td>\n",
       "    </tr>\n",
       "    <tr>\n",
       "      <th>8</th>\n",
       "      <td>8</td>\n",
       "      <td>Preethi Sekar</td>\n",
       "      <td>/in/preethisekar/</td>\n",
       "      <td>Engineering Leader - Powertrain Dept, JLR</td>\n",
       "      <td>United Kingdom</td>\n",
       "      <td>['9 Mutual Connections', 'You both worked at J...</td>\n",
       "      <td>April 2, 2019</td>\n",
       "      <td>NaN</td>\n",
       "      <td>2019-04-02</td>\n",
       "      <td>NaN</td>\n",
       "      <td>NaN</td>\n",
       "      <td>United Kingdom</td>\n",
       "    </tr>\n",
       "  </tbody>\n",
       "</table>\n",
       "</div>"
      ],
      "text/plain": [
       "   Unnamed: 0            name                          link  \\\n",
       "0           0  Madhu Shurpali  /in/madhu-shurpali-2aabab14/   \n",
       "5           5  Stuart Hubbard            /in/stuarthubbard/   \n",
       "6           6     Lily Watson    /in/lily-watson-8b06b0178/   \n",
       "7           7  Mostafa Hashem  /in/mostafa-hashem-93264218/   \n",
       "8           8   Preethi Sekar             /in/preethisekar/   \n",
       "\n",
       "                                          occupation  \\\n",
       "0               Project Manager at Tata Technologies   \n",
       "5  Lead Engineer - CAE Methods &amp; Tools (Suspe...   \n",
       "6                     Student at England High School   \n",
       "7       Entrepreneur, Analytics and Data Consultant.   \n",
       "8          Engineering Leader - Powertrain Dept, JLR   \n",
       "\n",
       "                                            location  \\\n",
       "0                           Coventry, United Kingdom   \n",
       "5  Bishop’s Itchington, Warwickshire, United Kingdom   \n",
       "6                             London, United Kingdom   \n",
       "7            Coventry, West Midlands, United Kingdom   \n",
       "8                                     United Kingdom   \n",
       "\n",
       "                                          mutual_raw date_connected_string  \\\n",
       "0                              10 Mutual Connections          June 6, 2019   \n",
       "5  ['36 Mutual Connections', 'You both worked at ...        April 25, 2019   \n",
       "6                              19 Mutual Connections        April 24, 2019   \n",
       "7         ['2 Mutual Connections', '1 Mutual Group']        April 16, 2019   \n",
       "8  ['9 Mutual Connections', 'You both worked at J...         April 2, 2019   \n",
       "\n",
       "                                see_connections_link date_connected  \\\n",
       "0  /search/results/people/?facetConnectionOf=%5B%...     2019-06-06   \n",
       "5  /search/results/people/?facetConnectionOf=%5B%...     2019-04-25   \n",
       "6  /search/results/people/?facetConnectionOf=%5B%...     2019-04-24   \n",
       "7  /search/results/people/?facetConnectionOf=%5B%...     2019-04-16   \n",
       "8                                                NaN     2019-04-02   \n",
       "\n",
       "                  city         region         country  \n",
       "0             Coventry            NaN  United Kingdom  \n",
       "5  Bishop’s Itchington   Warwickshire  United Kingdom  \n",
       "6               London            NaN  United Kingdom  \n",
       "7             Coventry  West Midlands  United Kingdom  \n",
       "8                  NaN            NaN  United Kingdom  "
      ]
     },
     "execution_count": 84,
     "metadata": {},
     "output_type": "execute_result"
    }
   ],
   "source": [
    "df_country.head()"
   ]
  },
  {
   "cell_type": "code",
   "execution_count": 21,
   "metadata": {},
   "outputs": [
    {
     "data": {
      "image/png": "[encoded data removed]",
      "text/plain": [
       "<Figure size 720x432 with 1 Axes>"
      ]
     },
     "metadata": {
      "needs_background": "light"
     },
     "output_type": "display_data"
    }
   ],
   "source": [
    "plt.figure(figsize = (10,6))\n",
    "#yearly_divisions = 1\n",
    "#req = np.linspace(start = 734925-55, stop = 737216+210, num = 7*yearly_divisions+1)\n",
    "\n",
    "df_country.groupby('country')['date_connected'].hist(histtype = 'step', bins = 10, grid = False, lw = 3)\n",
    "plt.legend(['Italy','UK'],fontsize = 14);\n",
    "plt.ylabel('Connections', fontsize=14);\n",
    "plt.xlabel('Year', fontsize = 14)\n",
    "plt.xticks(fontsize=13);\n",
    "plt.yticks(fontsize=13);\n",
    "#plt.savefig('Dates_UK_Italy.png')"
   ]
  },
  {
   "cell_type": "code",
   "execution_count": 91,
   "metadata": {},
   "outputs": [
    {
     "data": {
      "text/plain": [
       "array([<matplotlib.axes._subplots.AxesSubplot object at 0x0000018349D97C18>,\n",
       "       <matplotlib.axes._subplots.AxesSubplot object at 0x0000018349D75E10>],\n",
       "      dtype=object)"
      ]
     },
     "execution_count": 91,
     "metadata": {},
     "output_type": "execute_result"
    },
    {
     "data": {
      "image/png": "[encoded data removed]",
      "text/plain": [
       "<Figure size 432x288 with 2 Axes>"
      ]
     },
     "metadata": {
      "needs_background": "light"
     },
     "output_type": "display_data"
    }
   ],
   "source": [
    "df_country.hist(column = 'date_connected', by = 'country')"
   ]
  }
 ],
 "metadata": {
  "kernelspec": {
   "display_name": "Python 3",
   "language": "python",
   "name": "python3"
  },
  "language_info": {
   "codemirror_mode": {
    "name": "ipython",
    "version": 3
   },
   "file_extension": ".py",
   "mimetype": "text/x-python",
   "name": "python",
   "nbconvert_exporter": "python",
   "pygments_lexer": "ipython3",
   "version": "3.7.4"
  }
 },
 "nbformat": 4,
 "nbformat_minor": 2
}
