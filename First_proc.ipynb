{
 "cells": [
  {
   "cell_type": "code",
   "execution_count": 1,
   "metadata": {},
   "outputs": [],
   "source": [
    "import csv\n",
    "import matplotlib.pyplot as plt\n",
    "import seaborn as sns\n",
    "import pandas as pd\n",
    "from datetime import datetime as dt\n",
    "import numpy as np\n",
    "import re"
   ]
  },
  {
   "cell_type": "code",
   "execution_count": 3,
   "metadata": {},
   "outputs": [
    {
     "data": {
      "text/plain": [
       "['Madhu Shurpali',\n",
       " '/in/madhu-shurpali-2aabab14/',\n",
       " 'Project Manager at Tata Technologies',\n",
       " 'Coventry, United Kingdom',\n",
       " '10 Mutual Connections',\n",
       " 'June 6, 2019',\n",
       " '/search/results/people/?facetConnectionOf=%5B%22ACoAAAMGOeIBIB4jU9iHfDomXW9J5bJtGQUy7HQ%22%5D&facetNetwork=%5B%22F%22%2C%22S%22%5D&origin=MEMBER_PROFILE_CANNED_SEARCH']"
      ]
     },
     "execution_count": 3,
     "metadata": {},
     "output_type": "execute_result"
    }
   ],
   "source": [
    "# Read CSV file\n",
    "data = []\n",
    "with open('./csv_files/first_connections_mod.csv','r') as csvfile:\n",
    "    csvreader = csv.reader(csvfile, delimiter = ';')\n",
    "    for row in csvreader:\n",
    "        data.append(row)\n",
    "data[0]"
   ]
  },
  {
   "cell_type": "code",
   "execution_count": 4,
   "metadata": {},
   "outputs": [],
   "source": [
    "df = pd.DataFrame(data, columns = ['name','link','occupation','location','mutual_raw',\\\n",
    "                                   'date_connected_string','see_connections_link'])"
   ]
  },
  {
   "cell_type": "code",
   "execution_count": 5,
   "metadata": {},
   "outputs": [
    {
     "data": {
      "text/html": [
       "<div>\n",
       "<style scoped>\n",
       "    .dataframe tbody tr th:only-of-type {\n",
       "        vertical-align: middle;\n",
       "    }\n",
       "\n",
       "    .dataframe tbody tr th {\n",
       "        vertical-align: top;\n",
       "    }\n",
       "\n",
       "    .dataframe thead th {\n",
       "        text-align: right;\n",
       "    }\n",
       "</style>\n",
       "<table border=\"1\" class=\"dataframe\">\n",
       "  <thead>\n",
       "    <tr style=\"text-align: right;\">\n",
       "      <th></th>\n",
       "      <th>name</th>\n",
       "      <th>link</th>\n",
       "      <th>occupation</th>\n",
       "      <th>location</th>\n",
       "      <th>mutual_raw</th>\n",
       "      <th>date_connected_string</th>\n",
       "      <th>see_connections_link</th>\n",
       "    </tr>\n",
       "  </thead>\n",
       "  <tbody>\n",
       "    <tr>\n",
       "      <th>0</th>\n",
       "      <td>Madhu Shurpali</td>\n",
       "      <td>/in/madhu-shurpali-2aabab14/</td>\n",
       "      <td>Project Manager at Tata Technologies</td>\n",
       "      <td>Coventry, United Kingdom</td>\n",
       "      <td>10 Mutual Connections</td>\n",
       "      <td>June 6, 2019</td>\n",
       "      <td>/search/results/people/?facetConnectionOf=%5B%...</td>\n",
       "    </tr>\n",
       "    <tr>\n",
       "      <th>1</th>\n",
       "      <td>Ivan Lafuenti</td>\n",
       "      <td>/in/ivan-l-b7458932/</td>\n",
       "      <td>Design Engineering at Giannuzzi srl</td>\n",
       "      <td>Brindisi Area, Italy</td>\n",
       "      <td>['2 Mutual Connections', 'You both studied at ...</td>\n",
       "      <td>May 30, 2019</td>\n",
       "      <td>/search/results/people/?facetConnectionOf=%5B%...</td>\n",
       "    </tr>\n",
       "    <tr>\n",
       "      <th>2</th>\n",
       "      <td>Tiziano Ruggiero</td>\n",
       "      <td>/in/tiziano-ruggiero-2011b2164/</td>\n",
       "      <td>Responsabile del reparto tecnico di produzione...</td>\n",
       "      <td>Avezzano, Abruzzo, Italy</td>\n",
       "      <td>Tiziano started a new position as Responsabile...</td>\n",
       "      <td>May 30, 2019</td>\n",
       "      <td>/search/results/people/?facetConnectionOf=%5B%...</td>\n",
       "    </tr>\n",
       "    <tr>\n",
       "      <th>3</th>\n",
       "      <td>Antonio Guerrieri</td>\n",
       "      <td>/in/antonio-guerrieri/</td>\n",
       "      <td>Ingegnere at Università del Salento</td>\n",
       "      <td>Lecce, Apulia, Italy</td>\n",
       "      <td>You both studied at Università del Salento</td>\n",
       "      <td>May 29, 2019</td>\n",
       "      <td>/search/results/people/?facetConnectionOf=%5B%...</td>\n",
       "    </tr>\n",
       "    <tr>\n",
       "      <th>4</th>\n",
       "      <td>Lorenzo Gagliardi</td>\n",
       "      <td>/in/lorenzo-gagliardi-72049b45/</td>\n",
       "      <td>Ing</td>\n",
       "      <td>Savona, Liguria, Italy</td>\n",
       "      <td>['19 Mutual Connections', 'You both worked at ...</td>\n",
       "      <td>May 2, 2019</td>\n",
       "      <td>/search/results/people/?facetConnectionOf=%5B%...</td>\n",
       "    </tr>\n",
       "  </tbody>\n",
       "</table>\n",
       "</div>"
      ],
      "text/plain": [
       "                name                             link  \\\n",
       "0     Madhu Shurpali     /in/madhu-shurpali-2aabab14/   \n",
       "1      Ivan Lafuenti             /in/ivan-l-b7458932/   \n",
       "2   Tiziano Ruggiero  /in/tiziano-ruggiero-2011b2164/   \n",
       "3  Antonio Guerrieri           /in/antonio-guerrieri/   \n",
       "4  Lorenzo Gagliardi  /in/lorenzo-gagliardi-72049b45/   \n",
       "\n",
       "                                          occupation  \\\n",
       "0               Project Manager at Tata Technologies   \n",
       "1                Design Engineering at Giannuzzi srl   \n",
       "2  Responsabile del reparto tecnico di produzione...   \n",
       "3                Ingegnere at Università del Salento   \n",
       "4                                                Ing   \n",
       "\n",
       "                   location  \\\n",
       "0  Coventry, United Kingdom   \n",
       "1      Brindisi Area, Italy   \n",
       "2  Avezzano, Abruzzo, Italy   \n",
       "3      Lecce, Apulia, Italy   \n",
       "4    Savona, Liguria, Italy   \n",
       "\n",
       "                                          mutual_raw date_connected_string  \\\n",
       "0                              10 Mutual Connections          June 6, 2019   \n",
       "1  ['2 Mutual Connections', 'You both studied at ...          May 30, 2019   \n",
       "2  Tiziano started a new position as Responsabile...          May 30, 2019   \n",
       "3         You both studied at Università del Salento          May 29, 2019   \n",
       "4  ['19 Mutual Connections', 'You both worked at ...           May 2, 2019   \n",
       "\n",
       "                                see_connections_link  \n",
       "0  /search/results/people/?facetConnectionOf=%5B%...  \n",
       "1  /search/results/people/?facetConnectionOf=%5B%...  \n",
       "2  /search/results/people/?facetConnectionOf=%5B%...  \n",
       "3  /search/results/people/?facetConnectionOf=%5B%...  \n",
       "4  /search/results/people/?facetConnectionOf=%5B%...  "
      ]
     },
     "execution_count": 5,
     "metadata": {},
     "output_type": "execute_result"
    }
   ],
   "source": [
    "df.head()"
   ]
  },
  {
   "cell_type": "code",
   "execution_count": 6,
   "metadata": {},
   "outputs": [],
   "source": [
    "# Converts date_strings to datetime\n",
    "dc = []\n",
    "dcs= df['date_connected_string']\n",
    "for dat in dcs:\n",
    "    dc.append(dt. strptime(dat,'%B %d, %Y'))\n"
   ]
  },
  {
   "cell_type": "code",
   "execution_count": 7,
   "metadata": {},
   "outputs": [],
   "source": [
    "df['date_connected'] = dc"
   ]
  },
  {
   "cell_type": "code",
   "execution_count": 8,
   "metadata": {},
   "outputs": [
    {
     "data": {
      "text/html": [
       "<div>\n",
       "<style scoped>\n",
       "    .dataframe tbody tr th:only-of-type {\n",
       "        vertical-align: middle;\n",
       "    }\n",
       "\n",
       "    .dataframe tbody tr th {\n",
       "        vertical-align: top;\n",
       "    }\n",
       "\n",
       "    .dataframe thead th {\n",
       "        text-align: right;\n",
       "    }\n",
       "</style>\n",
       "<table border=\"1\" class=\"dataframe\">\n",
       "  <thead>\n",
       "    <tr style=\"text-align: right;\">\n",
       "      <th></th>\n",
       "      <th>name</th>\n",
       "      <th>link</th>\n",
       "      <th>occupation</th>\n",
       "      <th>location</th>\n",
       "      <th>mutual_raw</th>\n",
       "      <th>date_connected_string</th>\n",
       "      <th>see_connections_link</th>\n",
       "      <th>date_connected</th>\n",
       "    </tr>\n",
       "  </thead>\n",
       "  <tbody>\n",
       "    <tr>\n",
       "      <th>0</th>\n",
       "      <td>Madhu Shurpali</td>\n",
       "      <td>/in/madhu-shurpali-2aabab14/</td>\n",
       "      <td>Project Manager at Tata Technologies</td>\n",
       "      <td>Coventry, United Kingdom</td>\n",
       "      <td>10 Mutual Connections</td>\n",
       "      <td>June 6, 2019</td>\n",
       "      <td>/search/results/people/?facetConnectionOf=%5B%...</td>\n",
       "      <td>2019-06-06</td>\n",
       "    </tr>\n",
       "    <tr>\n",
       "      <th>1</th>\n",
       "      <td>Ivan Lafuenti</td>\n",
       "      <td>/in/ivan-l-b7458932/</td>\n",
       "      <td>Design Engineering at Giannuzzi srl</td>\n",
       "      <td>Brindisi Area, Italy</td>\n",
       "      <td>['2 Mutual Connections', 'You both studied at ...</td>\n",
       "      <td>May 30, 2019</td>\n",
       "      <td>/search/results/people/?facetConnectionOf=%5B%...</td>\n",
       "      <td>2019-05-30</td>\n",
       "    </tr>\n",
       "    <tr>\n",
       "      <th>2</th>\n",
       "      <td>Tiziano Ruggiero</td>\n",
       "      <td>/in/tiziano-ruggiero-2011b2164/</td>\n",
       "      <td>Responsabile del reparto tecnico di produzione...</td>\n",
       "      <td>Avezzano, Abruzzo, Italy</td>\n",
       "      <td>Tiziano started a new position as Responsabile...</td>\n",
       "      <td>May 30, 2019</td>\n",
       "      <td>/search/results/people/?facetConnectionOf=%5B%...</td>\n",
       "      <td>2019-05-30</td>\n",
       "    </tr>\n",
       "    <tr>\n",
       "      <th>3</th>\n",
       "      <td>Antonio Guerrieri</td>\n",
       "      <td>/in/antonio-guerrieri/</td>\n",
       "      <td>Ingegnere at Università del Salento</td>\n",
       "      <td>Lecce, Apulia, Italy</td>\n",
       "      <td>You both studied at Università del Salento</td>\n",
       "      <td>May 29, 2019</td>\n",
       "      <td>/search/results/people/?facetConnectionOf=%5B%...</td>\n",
       "      <td>2019-05-29</td>\n",
       "    </tr>\n",
       "    <tr>\n",
       "      <th>4</th>\n",
       "      <td>Lorenzo Gagliardi</td>\n",
       "      <td>/in/lorenzo-gagliardi-72049b45/</td>\n",
       "      <td>Ing</td>\n",
       "      <td>Savona, Liguria, Italy</td>\n",
       "      <td>['19 Mutual Connections', 'You both worked at ...</td>\n",
       "      <td>May 2, 2019</td>\n",
       "      <td>/search/results/people/?facetConnectionOf=%5B%...</td>\n",
       "      <td>2019-05-02</td>\n",
       "    </tr>\n",
       "  </tbody>\n",
       "</table>\n",
       "</div>"
      ],
      "text/plain": [
       "                name                             link  \\\n",
       "0     Madhu Shurpali     /in/madhu-shurpali-2aabab14/   \n",
       "1      Ivan Lafuenti             /in/ivan-l-b7458932/   \n",
       "2   Tiziano Ruggiero  /in/tiziano-ruggiero-2011b2164/   \n",
       "3  Antonio Guerrieri           /in/antonio-guerrieri/   \n",
       "4  Lorenzo Gagliardi  /in/lorenzo-gagliardi-72049b45/   \n",
       "\n",
       "                                          occupation  \\\n",
       "0               Project Manager at Tata Technologies   \n",
       "1                Design Engineering at Giannuzzi srl   \n",
       "2  Responsabile del reparto tecnico di produzione...   \n",
       "3                Ingegnere at Università del Salento   \n",
       "4                                                Ing   \n",
       "\n",
       "                   location  \\\n",
       "0  Coventry, United Kingdom   \n",
       "1      Brindisi Area, Italy   \n",
       "2  Avezzano, Abruzzo, Italy   \n",
       "3      Lecce, Apulia, Italy   \n",
       "4    Savona, Liguria, Italy   \n",
       "\n",
       "                                          mutual_raw date_connected_string  \\\n",
       "0                              10 Mutual Connections          June 6, 2019   \n",
       "1  ['2 Mutual Connections', 'You both studied at ...          May 30, 2019   \n",
       "2  Tiziano started a new position as Responsabile...          May 30, 2019   \n",
       "3         You both studied at Università del Salento          May 29, 2019   \n",
       "4  ['19 Mutual Connections', 'You both worked at ...           May 2, 2019   \n",
       "\n",
       "                                see_connections_link date_connected  \n",
       "0  /search/results/people/?facetConnectionOf=%5B%...     2019-06-06  \n",
       "1  /search/results/people/?facetConnectionOf=%5B%...     2019-05-30  \n",
       "2  /search/results/people/?facetConnectionOf=%5B%...     2019-05-30  \n",
       "3  /search/results/people/?facetConnectionOf=%5B%...     2019-05-29  \n",
       "4  /search/results/people/?facetConnectionOf=%5B%...     2019-05-02  "
      ]
     },
     "execution_count": 8,
     "metadata": {},
     "output_type": "execute_result"
    }
   ],
   "source": [
    "df.head()"
   ]
  },
  {
   "cell_type": "code",
   "execution_count": 69,
   "metadata": {},
   "outputs": [
    {
     "data": {
      "text/plain": [
       "DatetimeIndex([          '2013-01-01 00:00:00',\n",
       "               '2013-07-02 13:42:51.428571392',\n",
       "               '2014-01-01 03:25:42.857142784',\n",
       "               '2014-07-02 17:08:34.285714176',\n",
       "               '2015-01-01 06:51:25.714285824',\n",
       "               '2015-07-02 20:34:17.142857216',\n",
       "               '2016-01-01 10:17:08.571428608',\n",
       "                         '2016-07-02 00:00:00',\n",
       "               '2016-12-31 13:42:51.428571392',\n",
       "               '2017-07-02 03:25:42.857142784',\n",
       "               '2017-12-31 17:08:34.285714176',\n",
       "               '2018-07-02 06:51:25.714285568',\n",
       "               '2018-12-31 20:34:17.142857216',\n",
       "               '2019-07-02 10:17:08.571428608',\n",
       "                         '2020-01-01 00:00:00'],\n",
       "              dtype='datetime64[ns]', freq=None)"
      ]
     },
     "execution_count": 69,
     "metadata": {},
     "output_type": "execute_result"
    }
   ],
   "source": [
    "inizio = pd.Timestamp('2013-01-01')\n",
    "fine = pd.Timestamp('2020-01-01')\n",
    "rbin = np.linspace(inizio.value, fine.value, 15)\n",
    "rbint = pd.to_datetime(rbin)\n",
    "rbint"
   ]
  },
  {
   "cell_type": "code",
   "execution_count": 14,
   "metadata": {},
   "outputs": [
    {
     "data": {
      "text/plain": [
       "Text(0.5, 1.0, 'New Linkedin connections vs. time')"
      ]
     },
     "execution_count": 14,
     "metadata": {},
     "output_type": "execute_result"
    },
    {
     "data": {
      "image/png": "[encoded data removed]",
      "text/plain": [
       "<Figure size 720x432 with 1 Axes>"
      ]
     },
     "metadata": {
      "needs_background": "light"
     },
     "output_type": "display_data"
    }
   ],
   "source": [
    "yearly_divisions = 2\n",
    "req = np.linspace(start = 734925-55, stop = 737216+210, num = 7*yearly_divisions+1)\n",
    "plt.figure(figsize = (10,6))\n",
    "\n",
    "bin_edges = plt.hist(df['date_connected'], bins = req, alpha = 1,histtype ='bar');\n",
    "plt.grid(True)\n",
    "plt.ylabel('Connections', fontsize = 14)\n",
    "plt.xlabel('Year', fontsize = 14)\n",
    "plt.xticks(fontsize =13)\n",
    "plt.yticks(fontsize = 13)\n",
    "plt.title('New Linkedin connections vs. time', fontsize = 14);\n",
    "#plt.savefig('foo.png')"
   ]
  },
  {
   "cell_type": "code",
   "execution_count": 25,
   "metadata": {},
   "outputs": [
    {
     "data": {
      "text/plain": [
       "27          Melita Ignatjeva\n",
       "28              Pete Newbury\n",
       "29          Davide Lucarelli\n",
       "30    Angel Andres Fernandez\n",
       "31         GIORGIO PRIMORDIO\n",
       "32            Dominic Taylor\n",
       "33            Sephton Wilson\n",
       "34                 Geoff Day\n",
       "Name: name, dtype: object"
      ]
     },
     "execution_count": 25,
     "metadata": {},
     "output_type": "execute_result"
    }
   ],
   "source": [
    "# Filter by period\n",
    "lowDate = '2018-07-01'\n",
    "highDate = '2019-01-01'\n",
    "ix =  (df['date_connected']> pd.Timestamp(lowDate)) & (df['date_connected'] < pd.Timestamp(highDate)) \n",
    "df['name'][ix]"
   ]
  },
  {
   "cell_type": "markdown",
   "metadata": {},
   "source": [
    "# Proc location"
   ]
  },
  {
   "cell_type": "code",
   "execution_count": 81,
   "metadata": {},
   "outputs": [],
   "source": [
    "city = []\n",
    "region = []\n",
    "country = []\n",
    "\n",
    "for location in df['location']:\n",
    "    tt = re.split(',', location)\n",
    "    # country is always last\n",
    "    country.append(tt[len(tt)-1].strip())\n",
    "    if len(tt)>1:\n",
    "        city.append( re.sub('Area', '', tt[0]).strip())\n",
    "    else:\n",
    "        city.append('')\n",
    "        \n",
    "    if len(tt)>2:\n",
    "        region.append( tt[1].strip())\n",
    "    else:\n",
    "        region.append('')\n",
    "    if len(tt)>3:\n",
    "        print(location)\n",
    "    "
   ]
  },
  {
   "cell_type": "code",
   "execution_count": 82,
   "metadata": {},
   "outputs": [],
   "source": [
    "rf = []\n",
    "for k in range(293):\n",
    "    if 'New York' in country[k]:\n",
    "        rf.append(k)\n",
    "        \n",
    "    "
   ]
  },
  {
   "cell_type": "code",
   "execution_count": 83,
   "metadata": {},
   "outputs": [
    {
     "name": "stdout",
     "output_type": "stream",
     "text": [
      "62             New York, New York\n",
      "150         Pearl River, New York\n",
      "195    Greater New York City Area\n",
      "Name: location, dtype: object\n"
     ]
    }
   ],
   "source": [
    "print(df['location'][rf])"
   ]
  },
  {
   "cell_type": "code",
   "execution_count": 88,
   "metadata": {},
   "outputs": [
    {
     "name": "stdout",
     "output_type": "stream",
     "text": [
      "\n",
      "\n",
      "Greater New York City Area\n"
     ]
    }
   ],
   "source": [
    "ix = rf[2]\n",
    "print(city[ix])\n",
    "print(region[ix])\n",
    "print(country[ix])"
   ]
  },
  {
   "cell_type": "code",
   "execution_count": 89,
   "metadata": {},
   "outputs": [],
   "source": [
    "\n",
    "#city[ix])\n",
    "region[ix] = 'New York'\n",
    "country[ix] = 'USA'"
   ]
  },
  {
   "cell_type": "code",
   "execution_count": 104,
   "metadata": {},
   "outputs": [],
   "source": [
    "region[204] = 'Greater Boston Area'\n",
    "country[204] = 'USA'"
   ]
  },
  {
   "cell_type": "code",
   "execution_count": 105,
   "metadata": {},
   "outputs": [],
   "source": [
    "df['city'] = city\n",
    "df['region'] = region\n",
    "df['country'] = country"
   ]
  },
  {
   "cell_type": "markdown",
   "metadata": {},
   "source": [
    "# Loc"
   ]
  },
  {
   "cell_type": "code",
   "execution_count": 142,
   "metadata": {},
   "outputs": [
    {
     "data": {
      "text/html": [
       "<div>\n",
       "<style scoped>\n",
       "    .dataframe tbody tr th:only-of-type {\n",
       "        vertical-align: middle;\n",
       "    }\n",
       "\n",
       "    .dataframe tbody tr th {\n",
       "        vertical-align: top;\n",
       "    }\n",
       "\n",
       "    .dataframe thead th {\n",
       "        text-align: right;\n",
       "    }\n",
       "</style>\n",
       "<table border=\"1\" class=\"dataframe\">\n",
       "  <thead>\n",
       "    <tr style=\"text-align: right;\">\n",
       "      <th></th>\n",
       "      <th>country</th>\n",
       "    </tr>\n",
       "    <tr>\n",
       "      <th>foo</th>\n",
       "      <th></th>\n",
       "    </tr>\n",
       "  </thead>\n",
       "  <tbody>\n",
       "    <tr>\n",
       "      <th>United Kingdom</th>\n",
       "      <td>121</td>\n",
       "    </tr>\n",
       "    <tr>\n",
       "      <th>Italy</th>\n",
       "      <td>111</td>\n",
       "    </tr>\n",
       "    <tr>\n",
       "      <th>Germany</th>\n",
       "      <td>15</td>\n",
       "    </tr>\n",
       "    <tr>\n",
       "      <th>Spain</th>\n",
       "      <td>12</td>\n",
       "    </tr>\n",
       "    <tr>\n",
       "      <th>China</th>\n",
       "      <td>5</td>\n",
       "    </tr>\n",
       "    <tr>\n",
       "      <th>USA</th>\n",
       "      <td>4</td>\n",
       "    </tr>\n",
       "    <tr>\n",
       "      <th>India</th>\n",
       "      <td>4</td>\n",
       "    </tr>\n",
       "    <tr>\n",
       "      <th>Ireland</th>\n",
       "      <td>3</td>\n",
       "    </tr>\n",
       "    <tr>\n",
       "      <th>France</th>\n",
       "      <td>2</td>\n",
       "    </tr>\n",
       "    <tr>\n",
       "      <th>Belgium</th>\n",
       "      <td>2</td>\n",
       "    </tr>\n",
       "    <tr>\n",
       "      <th>Netherlands</th>\n",
       "      <td>2</td>\n",
       "    </tr>\n",
       "    <tr>\n",
       "      <th>Brazil</th>\n",
       "      <td>2</td>\n",
       "    </tr>\n",
       "    <tr>\n",
       "      <th>Georgia</th>\n",
       "      <td>1</td>\n",
       "    </tr>\n",
       "    <tr>\n",
       "      <th>Hong Kong</th>\n",
       "      <td>1</td>\n",
       "    </tr>\n",
       "    <tr>\n",
       "      <th>Czech Republic</th>\n",
       "      <td>1</td>\n",
       "    </tr>\n",
       "    <tr>\n",
       "      <th>Japan</th>\n",
       "      <td>1</td>\n",
       "    </tr>\n",
       "    <tr>\n",
       "      <th>Ohio</th>\n",
       "      <td>1</td>\n",
       "    </tr>\n",
       "    <tr>\n",
       "      <th>Canada</th>\n",
       "      <td>1</td>\n",
       "    </tr>\n",
       "    <tr>\n",
       "      <th>Sweden</th>\n",
       "      <td>1</td>\n",
       "    </tr>\n",
       "    <tr>\n",
       "      <th>Turkey</th>\n",
       "      <td>1</td>\n",
       "    </tr>\n",
       "    <tr>\n",
       "      <th>United Arab Emirates</th>\n",
       "      <td>1</td>\n",
       "    </tr>\n",
       "    <tr>\n",
       "      <th></th>\n",
       "      <td>1</td>\n",
       "    </tr>\n",
       "  </tbody>\n",
       "</table>\n",
       "</div>"
      ],
      "text/plain": [
       "                      country\n",
       "foo                          \n",
       "United Kingdom            121\n",
       "Italy                     111\n",
       "Germany                    15\n",
       "Spain                      12\n",
       "China                       5\n",
       "USA                         4\n",
       "India                       4\n",
       "Ireland                     3\n",
       "France                      2\n",
       "Belgium                     2\n",
       "Netherlands                 2\n",
       "Brazil                      2\n",
       "Georgia                     1\n",
       "Hong Kong                   1\n",
       "Czech Republic              1\n",
       "Japan                       1\n",
       "Ohio                        1\n",
       "Canada                      1\n",
       "Sweden                      1\n",
       "Turkey                      1\n",
       "United Arab Emirates        1\n",
       "                            1"
      ]
     },
     "execution_count": 142,
     "metadata": {},
     "output_type": "execute_result"
    }
   ],
   "source": [
    "country_count = df.groupby('country')['country'].count()\n",
    "\n",
    "country_count = pd.DataFrame(country_count)\n",
    "country_count.index.name ='foo'\n",
    "country_count = country_count.sort_values('country', ascending = False)\n",
    "country_count"
   ]
  },
  {
   "cell_type": "code",
   "execution_count": 171,
   "metadata": {},
   "outputs": [
    {
     "ename": "TypeError",
     "evalue": "'tuple' object is not callable",
     "output_type": "error",
     "traceback": [
      "\u001b[1;31m---------------------------------------------------------------------------\u001b[0m",
      "\u001b[1;31mTypeError\u001b[0m                                 Traceback (most recent call last)",
      "\u001b[1;32m<ipython-input-171-58d5a5f280f0>\u001b[0m in \u001b[0;36m<module>\u001b[1;34m\u001b[0m\n\u001b[0;32m      1\u001b[0m \u001b[0mx\u001b[0m \u001b[1;33m=\u001b[0m \u001b[0mrange\u001b[0m\u001b[1;33m(\u001b[0m\u001b[1;36m22\u001b[0m\u001b[1;33m)\u001b[0m\u001b[1;33m\u001b[0m\u001b[1;33m\u001b[0m\u001b[0m\n\u001b[0;32m      2\u001b[0m \u001b[0mplt\u001b[0m\u001b[1;33m.\u001b[0m\u001b[0mbar\u001b[0m\u001b[1;33m(\u001b[0m\u001b[0mx\u001b[0m\u001b[1;33m,\u001b[0m \u001b[0mcountry_count\u001b[0m\u001b[1;33m[\u001b[0m\u001b[1;34m'country'\u001b[0m\u001b[1;33m]\u001b[0m\u001b[1;33m)\u001b[0m\u001b[1;33m\u001b[0m\u001b[1;33m\u001b[0m\u001b[0m\n\u001b[1;32m----> 3\u001b[1;33m \u001b[0mplt\u001b[0m\u001b[1;33m.\u001b[0m\u001b[0mxticks\u001b[0m\u001b[1;33m(\u001b[0m\u001b[0mx\u001b[0m\u001b[1;33m)\u001b[0m\u001b[1;33m\u001b[0m\u001b[1;33m\u001b[0m\u001b[0m\n\u001b[0m",
      "\u001b[1;31mTypeError\u001b[0m: 'tuple' object is not callable"
     ]
    },
    {
     "data": {
      "image/png": "[encoded data removed]",
      "text/plain": [
       "<Figure size 432x288 with 1 Axes>"
      ]
     },
     "metadata": {
      "needs_background": "light"
     },
     "output_type": "display_data"
    }
   ],
   "source": [
    "x = range(22)\n",
    "plt.bar(x, country_count['country'])\n",
    "plt.xticks(x)\n"
   ]
  },
  {
   "cell_type": "code",
   "execution_count": 172,
   "metadata": {},
   "outputs": [
    {
     "ename": "TypeError",
     "evalue": "'tuple' object is not callable",
     "output_type": "error",
     "traceback": [
      "\u001b[1;31m---------------------------------------------------------------------------\u001b[0m",
      "\u001b[1;31mTypeError\u001b[0m                                 Traceback (most recent call last)",
      "\u001b[1;32m<ipython-input-172-df8b74ef7123>\u001b[0m in \u001b[0;36m<module>\u001b[1;34m\u001b[0m\n\u001b[0;32m      1\u001b[0m \u001b[0mplt\u001b[0m\u001b[1;33m.\u001b[0m\u001b[0mplot\u001b[0m\u001b[1;33m(\u001b[0m\u001b[1;33m[\u001b[0m\u001b[1;36m0\u001b[0m \u001b[1;33m,\u001b[0m\u001b[1;36m3\u001b[0m\u001b[1;33m,\u001b[0m \u001b[1;36m9\u001b[0m\u001b[1;33m]\u001b[0m\u001b[1;33m)\u001b[0m\u001b[1;33m\u001b[0m\u001b[1;33m\u001b[0m\u001b[0m\n\u001b[1;32m----> 2\u001b[1;33m \u001b[0mplt\u001b[0m\u001b[1;33m.\u001b[0m\u001b[0mxticks\u001b[0m\u001b[1;33m(\u001b[0m\u001b[1;33m[\u001b[0m\u001b[1;36m0\u001b[0m\u001b[1;33m,\u001b[0m \u001b[1;36m1\u001b[0m\u001b[1;33m,\u001b[0m \u001b[1;36m2\u001b[0m\u001b[1;33m]\u001b[0m\u001b[1;33m)\u001b[0m\u001b[1;33m\u001b[0m\u001b[1;33m\u001b[0m\u001b[0m\n\u001b[0m",
      "\u001b[1;31mTypeError\u001b[0m: 'tuple' object is not callable"
     ]
    },
    {
     "data": {
      "image/png": "[encoded data removed]",
      "text/plain": [
       "<Figure size 432x288 with 1 Axes>"
      ]
     },
     "metadata": {
      "needs_background": "light"
     },
     "output_type": "display_data"
    }
   ],
   "source": [
    "plt.plot([0 ,3, 9])\n",
    "plt.xticks([0, 1, 2])"
   ]
  },
  {
   "cell_type": "code",
   "execution_count": 165,
   "metadata": {},
   "outputs": [
    {
     "data": {
      "text/plain": [
       "Index(['United Kingdom', 'Italy', 'Germany', 'Spain', 'China', 'USA', 'India',\n",
       "       'Ireland', 'France', 'Belgium', 'Netherlands', 'Brazil', 'Georgia',\n",
       "       'Hong Kong', 'Czech Republic', 'Japan', 'Ohio', 'Canada', 'Sweden',\n",
       "       'Turkey', 'United Arab Emirates', ''],\n",
       "      dtype='object', name='foo')"
      ]
     },
     "execution_count": 165,
     "metadata": {},
     "output_type": "execute_result"
    }
   ],
   "source": [
    "country_count.index"
   ]
  },
  {
   "cell_type": "markdown",
   "metadata": {},
   "source": [
    "# exp to csv"
   ]
  },
  {
   "cell_type": "code",
   "execution_count": 108,
   "metadata": {},
   "outputs": [],
   "source": [
    "df.to_csv(path_or_buf = 'first_vs.csv', sep = ';')"
   ]
  },
  {
   "cell_type": "markdown",
   "metadata": {},
   "source": [
    "# ss"
   ]
  },
  {
   "cell_type": "code",
   "execution_count": 116,
   "metadata": {},
   "outputs": [
    {
     "data": {
      "image/png": "[encoded data removed]",
      "text/plain": [
       "<Figure size 432x288 with 1 Axes>"
      ]
     },
     "metadata": {
      "needs_background": "light"
     },
     "output_type": "display_data"
    }
   ],
   "source": [
    "plt.plot(country_count)\n",
    "plt.show()"
   ]
  }
 ],
 "metadata": {
  "kernelspec": {
   "display_name": "Python 3",
   "language": "python",
   "name": "python3"
  },
  "language_info": {
   "codemirror_mode": {
    "name": "ipython",
    "version": 3
   },
   "file_extension": ".py",
   "mimetype": "text/x-python",
   "name": "python",
   "nbconvert_exporter": "python",
   "pygments_lexer": "ipython3",
   "version": "3.7.4"
  }
 },
 "nbformat": 4,
 "nbformat_minor": 2
}
